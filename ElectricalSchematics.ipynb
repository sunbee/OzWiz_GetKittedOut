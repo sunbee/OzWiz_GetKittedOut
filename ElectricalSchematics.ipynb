{
 "cells": [
  {
   "cell_type": "markdown",
   "metadata": {},
   "source": [
    "# Leave your mark, makers!\n",
    "\n",
    "What does it take to make a better world from where you are?\n",
    "Affordable hardware, open-source sottware and a supportive community fuel many dreams.\n",
    "The Raspberry Pi platform has emerged as a catalyst for creativity.\n",
    "Let's get kitted out and ready!\n",
    "\n",
    "## Energy and Work\n",
    "\n",
    "What do you need to do work? You need energy to do work. There’s different kinds of energy for different kinds of work, let’s say – electrical, mechanical, chemical. \n",
    "\n",
    "The energy is stored in some way. The Hoover Dam near Las Vegas in Nevada, USA, was dedicated in 1935 by then President Franklin D. Roosevelt. It is a reservoir of water of impressive proportions. The water stored at a height represents potential energy. When released in a controlled manner, the water acquires kinetic energy as it flows down from the reservoir into the valley below. The flowing water turns a turbine, the spinning motion of which generates electricity. Mechanical energy becomes electrical energy supplied to households.\n",
    "\n",
    "![Hoover](images/Hoover_Dam.jpg)\n",
    "By Mariordo (Mario Roberto Durán Ortiz) - Own work, CC BY-SA 4.0, [wikimedia](https://commons.wikimedia.org/w/index.php?curid=63356878)\n",
    "\n",
    "Energy is stored in various forms. A battery stores electrical energy much like a dam or reservoir stores mechanical energy.The food that we consume stores chemical energy. Release of energy to accomplish work requires flow. The flow of mechanical energy produces motion as observed, for example, in rotating machinery. Electrical energy flows invisibly as current. The flow of chemical energy is described by chemical reactions that transmute substance.\n",
    "\n",
    "*Natural phenonemena, like lightning during a thunderstorm, release massive amounts of energy. Unless energy is channeled in systematic ways for productive use, the consequences are unpredictable and often destructive. Engineering principles guide system design so that energy can be harnessed in predictable ways for productive use. We will see how in the next section.*"
   ]
  },
  {
   "cell_type": "markdown",
   "metadata": {},
   "source": [
    "## Rules of the Game - Fundamental Laws\n",
    "\n",
    "There are two fundamental laws to keep in mind that set the stage. These are laws of nature and accepted as universal truths. Let's look at the law of conservation of energy and law of entropty with an aim to develop an intuitive understanding. \n",
    "\n",
    "The law of conservation of energy states that energy can neither be created nor destroyed. The total amount of energy in the universe is constant. So no new energy can be created, energy can only be transformed from one form to another.\n",
    "\n",
    "The law of entropy implies that when energy is applied to accomplish work, it decreases in utility. In scientific terms, the entropy of the universe can only increase. Once expended to accomplish work, energy is dissipated as heat, and while the net amount of energy has not changed, it gets harder and harder to extract work from it.\n",
    "\n",
    "Think about the human body. We derive energy for our daily activties from nutritious food. Food is converted to energy at the cellular level by the breakdown of glucose from it. This happens in the presence of oxygen inside the mitochondria. Blood supplies glucose to every cell in the body along with oxygen captured from the lungs. Chemical energy in food becomes electrical energy in the nervous system, kinetic energy in the musculoskeletal system and heat that is dissipated in the environment.\n",
    "\n",
    "By the law of consevration of energy, the intake is equal to the output. While this is the case, note that a majority of the output is heat. We intuitively grasp the difficulty of recovering work from energy dissipated as heat. This is the law of entropy.\n",
    "\n",
    "*We hold these laws to be fundamental truths. In this backdrop, principles that describe the behavior of engineered components guide the development of systems to achieve practical outcomes that are predictable and reproducible. We will see two such principles pertaining to eletrical ciruits next.*"
   ]
  },
  {
   "cell_type": "markdown",
   "metadata": {},
   "source": [
    "## Electrical Circuit Analysis\n",
    "\n",
    "An electrical circuit harnesses electrical energy that flows in the circuit as current. A bare-bones electrical circuit has a source of electrical energy and a load that consumes energy. In terms of the energy balance, the source represents intake and the load represents the output.\n",
    "\n",
    "The potential of the source is characterized by voltage. Higher voltage means more potential. It is measured in Volts. The size of the load is characterized by resistance. It is measured in Ohms. Voltage drives a current through the circuit and the load is where electrical energy is converted into light or motion along with waste heat. \n",
    "\n",
    "Two laws are important in describing the behavior of a basic cicuit as outlined. These laws provide a framework for circuit analysis and are fleshed out in more detail as needed to accommodate complex circuit designs. They are **Ohm's Law** and **Kirchoff's Law**.\n",
    "\n",
    "### Ohm's Law\n",
    "\n",
    "\n",
    "### Kirchoff's Law"
   ]
  },
  {
   "cell_type": "markdown",
   "metadata": {},
   "source": [
    "## References\n",
    "\n",
    "1. Bill Gates said, [\"It is surprisingly hard to store energy.\"](https://www.gatesnotes.com/Energy/It-Is-Surprisingly-Hard-to-Store-Energy)\n",
    "2. Khan Academy has an article on metabolism that includes cellular respiration [here](https://www.khanacademy.org/science/high-school-biology/hs-energy-and-transport/hs-introduction-to-metabolism/a/overview-of-metabolism)."
   ]
  },
  {
   "cell_type": "markdown",
   "metadata": {},
   "source": [
    "#### 1.2 Ways in which the Pi is similar to a Personal Computer\n",
    "\n",
    "<p>Can you identify what's on the Pi? Match the device with the board.</p>"
   ]
  },
  {
   "cell_type": "markdown",
   "metadata": {},
   "source": [
    "#### 1.3 Ways in which the Pi is different from a Personal Computer\n"
   ]
  },
  {
   "cell_type": "code",
   "execution_count": null,
   "metadata": {},
   "outputs": [],
   "source": []
  }
 ],
 "metadata": {
  "kernelspec": {
   "display_name": "Python 3",
   "language": "python",
   "name": "python3"
  },
  "language_info": {
   "codemirror_mode": {
    "name": "ipython",
    "version": 3
   },
   "file_extension": ".py",
   "mimetype": "text/x-python",
   "name": "python",
   "nbconvert_exporter": "python",
   "pygments_lexer": "ipython3",
   "version": "3.7.2"
  }
 },
 "nbformat": 4,
 "nbformat_minor": 2
}
