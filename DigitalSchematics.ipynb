{
 "cells": [
  {
   "cell_type": "markdown",
   "metadata": {},
   "source": [
    "# Get Kitted Out \n",
    "\n",
    "## Digital Schematics\n",
    "\n",
    "### What's in this section\n",
    "\n",
    "1. Use GPIO pins to power on/off devices  \n",
    "\n",
    "    1.1 Switch on an LED \n",
    "    \n",
    "    1.2 Blink an LED\n",
    "    \n",
    "    1.3 Cycle through LEDs\n",
    "    \n",
    "    \n",
    "2. GPIO signals enable powering up digital devices \n",
    "\n",
    "    2.1 Digital high and low voltage levels \n",
    "    \n",
    "    2.2 Power up a digital device at 3.3 V or 5 V\n",
    "    \n",
    "    2.3 Power up a digital device at higher voltages\n",
    "\n",
    "\n",
    "3. Devices exchange signals as formatted messages based on protocols\n",
    "\n",
    "    3.1 The UART protocol \n",
    "\n",
    "    3.2 The SPI protocol\n",
    "\n",
    "    3.3 The I2C protocol\n"
   ]
  },
  {
   "cell_type": "code",
   "execution_count": null,
   "metadata": {},
   "outputs": [],
   "source": []
  }
 ],
 "metadata": {
  "kernelspec": {
   "display_name": "Python 3",
   "language": "python",
   "name": "python3"
  },
  "language_info": {
   "codemirror_mode": {
    "name": "ipython",
    "version": 3
   },
   "file_extension": ".py",
   "mimetype": "text/x-python",
   "name": "python",
   "nbconvert_exporter": "python",
   "pygments_lexer": "ipython3",
   "version": "3.7.2"
  }
 },
 "nbformat": 4,
 "nbformat_minor": 2
}
